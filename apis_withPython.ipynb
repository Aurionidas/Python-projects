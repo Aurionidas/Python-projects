{
 "cells": [
  {
   "cell_type": "markdown",
   "id": "f7e54079",
   "metadata": {},
   "source": [
    "## Dealing with APIs in Python\n",
    "\n",
    "APIs are everywhere. Learning how to consume them is really important, and in this notebook I'll go through the exploratory process: from learning how to consume APIs, to storing data, and creating real-world solutions.\n",
    "\n",
    "I'll start by learning the syntax, data types, and nuances by consuming a weather API."
   ]
  },
  {
   "cell_type": "code",
   "execution_count": 3,
   "id": "431fc553",
   "metadata": {},
   "outputs": [],
   "source": [
    "#Importing requests mosule. required for API calls\n",
    "import requests\n",
    "#Importing json module. required for parsing JSON data\n",
    "import json"
   ]
  },
  {
   "cell_type": "markdown",
   "id": "83f85947",
   "metadata": {},
   "source": [
    "### First Steps\n",
    "\n",
    "I'll start from the basics. I'll call a free API that doesn't need a key to get the weather from my city and store the results in a JSON object.\n",
    "\n",
    "Next, I will set an endpoint and ask the API about the weather in a specific location (Cartago, Valle in this case)."
   ]
  },
  {
   "cell_type": "code",
   "execution_count": 4,
   "id": "f6ff9f69",
   "metadata": {},
   "outputs": [
    {
     "name": "stdout",
     "output_type": "stream",
     "text": [
      "{'latitude': 4.75, 'longitude': -75.875, 'generationtime_ms': 0.06747245788574219, 'utc_offset_seconds': 0, 'timezone': 'GMT', 'timezone_abbreviation': 'GMT', 'elevation': 938.0, 'current_weather_units': {'time': 'iso8601', 'interval': 'seconds', 'temperature': '°C', 'windspeed': 'km/h', 'winddirection': '°', 'is_day': '', 'weathercode': 'wmo code'}, 'current_weather': {'time': '2025-06-25T04:00', 'interval': 900, 'temperature': 19.4, 'windspeed': 4.3, 'winddirection': 275, 'is_day': 0, 'weathercode': 3}, 'hourly_units': {'time': 'iso8601', 'relative_humidity_2m': '%'}, 'hourly': {'time': ['2025-06-25T00:00', '2025-06-25T01:00', '2025-06-25T02:00', '2025-06-25T03:00', '2025-06-25T04:00', '2025-06-25T05:00', '2025-06-25T06:00', '2025-06-25T07:00', '2025-06-25T08:00', '2025-06-25T09:00', '2025-06-25T10:00', '2025-06-25T11:00', '2025-06-25T12:00', '2025-06-25T13:00', '2025-06-25T14:00', '2025-06-25T15:00', '2025-06-25T16:00', '2025-06-25T17:00', '2025-06-25T18:00', '2025-06-25T19:00', '2025-06-25T20:00', '2025-06-25T21:00', '2025-06-25T22:00', '2025-06-25T23:00', '2025-06-26T00:00', '2025-06-26T01:00', '2025-06-26T02:00', '2025-06-26T03:00', '2025-06-26T04:00', '2025-06-26T05:00', '2025-06-26T06:00', '2025-06-26T07:00', '2025-06-26T08:00', '2025-06-26T09:00', '2025-06-26T10:00', '2025-06-26T11:00', '2025-06-26T12:00', '2025-06-26T13:00', '2025-06-26T14:00', '2025-06-26T15:00', '2025-06-26T16:00', '2025-06-26T17:00', '2025-06-26T18:00', '2025-06-26T19:00', '2025-06-26T20:00', '2025-06-26T21:00', '2025-06-26T22:00', '2025-06-26T23:00', '2025-06-27T00:00', '2025-06-27T01:00', '2025-06-27T02:00', '2025-06-27T03:00', '2025-06-27T04:00', '2025-06-27T05:00', '2025-06-27T06:00', '2025-06-27T07:00', '2025-06-27T08:00', '2025-06-27T09:00', '2025-06-27T10:00', '2025-06-27T11:00', '2025-06-27T12:00', '2025-06-27T13:00', '2025-06-27T14:00', '2025-06-27T15:00', '2025-06-27T16:00', '2025-06-27T17:00', '2025-06-27T18:00', '2025-06-27T19:00', '2025-06-27T20:00', '2025-06-27T21:00', '2025-06-27T22:00', '2025-06-27T23:00', '2025-06-28T00:00', '2025-06-28T01:00', '2025-06-28T02:00', '2025-06-28T03:00', '2025-06-28T04:00', '2025-06-28T05:00', '2025-06-28T06:00', '2025-06-28T07:00', '2025-06-28T08:00', '2025-06-28T09:00', '2025-06-28T10:00', '2025-06-28T11:00', '2025-06-28T12:00', '2025-06-28T13:00', '2025-06-28T14:00', '2025-06-28T15:00', '2025-06-28T16:00', '2025-06-28T17:00', '2025-06-28T18:00', '2025-06-28T19:00', '2025-06-28T20:00', '2025-06-28T21:00', '2025-06-28T22:00', '2025-06-28T23:00', '2025-06-29T00:00', '2025-06-29T01:00', '2025-06-29T02:00', '2025-06-29T03:00', '2025-06-29T04:00', '2025-06-29T05:00', '2025-06-29T06:00', '2025-06-29T07:00', '2025-06-29T08:00', '2025-06-29T09:00', '2025-06-29T10:00', '2025-06-29T11:00', '2025-06-29T12:00', '2025-06-29T13:00', '2025-06-29T14:00', '2025-06-29T15:00', '2025-06-29T16:00', '2025-06-29T17:00', '2025-06-29T18:00', '2025-06-29T19:00', '2025-06-29T20:00', '2025-06-29T21:00', '2025-06-29T22:00', '2025-06-29T23:00', '2025-06-30T00:00', '2025-06-30T01:00', '2025-06-30T02:00', '2025-06-30T03:00', '2025-06-30T04:00', '2025-06-30T05:00', '2025-06-30T06:00', '2025-06-30T07:00', '2025-06-30T08:00', '2025-06-30T09:00', '2025-06-30T10:00', '2025-06-30T11:00', '2025-06-30T12:00', '2025-06-30T13:00', '2025-06-30T14:00', '2025-06-30T15:00', '2025-06-30T16:00', '2025-06-30T17:00', '2025-06-30T18:00', '2025-06-30T19:00', '2025-06-30T20:00', '2025-06-30T21:00', '2025-06-30T22:00', '2025-06-30T23:00', '2025-07-01T00:00', '2025-07-01T01:00', '2025-07-01T02:00', '2025-07-01T03:00', '2025-07-01T04:00', '2025-07-01T05:00', '2025-07-01T06:00', '2025-07-01T07:00', '2025-07-01T08:00', '2025-07-01T09:00', '2025-07-01T10:00', '2025-07-01T11:00', '2025-07-01T12:00', '2025-07-01T13:00', '2025-07-01T14:00', '2025-07-01T15:00', '2025-07-01T16:00', '2025-07-01T17:00', '2025-07-01T18:00', '2025-07-01T19:00', '2025-07-01T20:00', '2025-07-01T21:00', '2025-07-01T22:00', '2025-07-01T23:00'], 'relative_humidity_2m': [80, 87, 90, 90, 91, 93, 93, 93, 92, 93, 94, 94, 93, 79, 76, 72, 67, 57, 52, 50, 52, 59, 62, 67, 73, 77, 82, 88, 90, 92, 93, 92, 91, 91, 91, 92, 92, 77, 75, 70, 62, 55, 52, 51, 58, 60, 61, 66, 74, 80, 83, 85, 86, 88, 90, 91, 93, 93, 94, 96, 93, 82, 77, 71, 66, 63, 59, 58, 57, 56, 59, 65, 73, 79, 84, 88, 90, 92, 92, 93, 94, 95, 95, 95, 92, 85, 76, 68, 61, 54, 51, 52, 56, 60, 64, 69, 74, 79, 84, 88, 90, 91, 92, 93, 94, 95, 96, 96, 93, 86, 77, 68, 60, 53, 49, 49, 51, 55, 61, 68, 74, 79, 83, 86, 88, 88, 89, 91, 94, 96, 97, 96, 93, 85, 73, 63, 55, 49, 46, 47, 52, 57, 62, 68, 73, 78, 82, 86, 89, 91, 93, 95, 96, 97, 97, 95, 92, 85, 76, 67, 59, 51, 47, 48, 52, 57, 62, 69]}}\n"
     ]
    }
   ],
   "source": [
    "# Example: Get weather for Cartago, Valle del Cauca, Colombia\n",
    "url = \"https://api.open-meteo.com/v1/forecast\"\n",
    "params = {\n",
    "    \"latitude\": 4.761190,\n",
    "    \"longitude\": -75.899277,\n",
    "    \"current_weather\": True,\n",
    "    \"hourly\": \"relative_humidity_2m\"\n",
    "}\n",
    "\n",
    "response = requests.get(url, params=params)\n",
    "data = response.json()\n",
    "print(data)"
   ]
  },
  {
   "cell_type": "markdown",
   "id": "f47cc717",
   "metadata": {},
   "source": [
    "Now let's get some real and readable information. As current_weather is another dictionary inside the JSON, let's do some proper calls to it.\n",
    "\n",
    "current_weather has:\n",
    "- time\n",
    "- interval\n",
    "- temperature\n",
    "- windspeed\n",
    "- winddirection\n",
    "- is_day\n",
    "- weathercode"
   ]
  },
  {
   "cell_type": "code",
   "execution_count": 5,
   "id": "6b00166a",
   "metadata": {},
   "outputs": [
    {
     "name": "stdout",
     "output_type": "stream",
     "text": [
      "Temperature: 19.4°C\n",
      "Wind Speed: 4.3 km/h\n",
      "Weather Code: 3\n",
      "Humedad relativa: 80%\n"
     ]
    }
   ],
   "source": [
    "current = data['current_weather']\n",
    "print(f\"Temperature: {current['temperature']}°C\")\n",
    "print(f\"Wind Speed: {current['windspeed']} km/h\")\n",
    "print(f\"Weather Code: {current['weathercode']}\")\n",
    "\n",
    "#Humedad realtiva\n",
    "\n",
    "current_humidity = data['hourly']['relative_humidity_2m'][0]\n",
    "print(f\"Humedad relativa: {current_humidity}%\")"
   ]
  },
  {
   "cell_type": "markdown",
   "id": "05ebe12a",
   "metadata": {},
   "source": [
    "## What's Next?\n",
    "\n",
    "I had the idea of requesting the weather from an API, but a user rarely knows the coordinates of their city. Now that I know how to consume an API, I will use Google Maps Geocoding services.\n",
    "\n",
    "The idea is simple: create a Google Cloud account, get an API key, set the endpoint, understand how the output JSON is structured, and start learning some basic HTTPS responses to make validations."
   ]
  },
  {
   "cell_type": "code",
   "execution_count": 8,
   "id": "4b011fb1",
   "metadata": {},
   "outputs": [],
   "source": [
    "\n",
    "def get_geocode(city):\n",
    "    \"\"\"Get the cordinates of the requested city\"\"\"\n",
    "\n",
    "    url_maps_api =\"https://maps.googleapis.com/maps/api/geocode/json\"\n",
    "    key_maps = google_maps_api_key\n",
    "\n",
    "    #Instancing the parameters to be sent to the API\n",
    "    params_maps = {\n",
    "        \"address\": city,\n",
    "        \"key\": key_maps\n",
    "    }\n",
    "\n",
    "    #Making the request to the API\n",
    "    response_maps = requests.get(url_maps_api, params=params_maps)\n",
    "\n",
    "    #Criteria to check if the request was successful\n",
    "    #If the status code is 200, it means the request was successful\n",
    "    if response_maps.status_code == 200:\n",
    "        data_maps = response_maps.json()\n",
    "\n",
    "        if data_maps['status'] == 'OK':\n",
    "            #print(data_maps['results'][0]['geometry'])\n",
    "            longitude = data_maps['results'][0]['geometry']['location']['lng']\n",
    "            latitude = data_maps['results'][0]['geometry']['location']['lat']\n",
    "            return {\"latitude\": latitude, \"longitude\": longitude}\n",
    "        else:\n",
    "            print(f\"Error: No results found for the specified city.\")\n",
    "            return None\n",
    "    else:\n",
    "        print(f\"Error: Unable to connect to the API. Status code: {response_maps.status_code}\")\n",
    "        return None\n",
    "        \n",
    "\n",
    "#Instancing the function to get the geocode of Cartago, Colombia\n",
    "geocode = get_geocode(\"Cartago, Colombia\")\n"
   ]
  },
  {
   "cell_type": "code",
   "execution_count": 9,
   "id": "9d54d672",
   "metadata": {},
   "outputs": [
    {
     "name": "stdout",
     "output_type": "stream",
     "text": [
      "{'latitude': 4.747221199999999, 'longitude': -75.91162890000001}\n"
     ]
    }
   ],
   "source": [
    "print(geocode)"
   ]
  },
  {
   "cell_type": "markdown",
   "id": "9bb10c69",
   "metadata": {},
   "source": [
    "Now the sky is the limit. Just by understanding how JSON files work and connecting to APIs, I can minimize the hassle and get some professional tasks done.\n",
    "\n",
    "What if I build a Dash App using a more robust weather service?\n",
    "\n",
    "I could create a graphical interface so that the user can type a city and get the weather info. Nowadays that's really common, but it doesn't take away from the impressiveness if it's just you and a couple of lines of code."
   ]
  },
  {
   "cell_type": "code",
   "execution_count": 47,
   "id": "f9ef03cd",
   "metadata": {},
   "outputs": [
    {
     "name": "stdout",
     "output_type": "stream",
     "text": [
      "{'temperature': 15.35, 'wind_speed': 0.54, 'realtive_humidity': 87, 'thermal_sensation': 15.21, 'precipitation': 'No Data'}\n"
     ]
    }
   ],
   "source": [
    "\n",
    "def get_weather(city):\n",
    "    \"\"\"Get the main weather conditions for the requested city\"\"\"\n",
    "\n",
    "    #Setting the endpoint and API key for  the Open weather API\n",
    "    url_weather_api = \"https://api.openweathermap.org/data/2.5/weather\"\n",
    "    key_weather = open_weather_api_key\n",
    "\n",
    "    #Getting the geocode of the city\n",
    "    geocode = get_geocode(city)\n",
    "    if not geocode:\n",
    "        return f\"No se encontró la cuidad requesrida: {city}\\n verifique la ortografía o intente con otra ciudad.\"\n",
    "\n",
    "    #Instancing the parameters to be sent to the API\n",
    "    params_weather = {\n",
    "        \"lat\": geocode[\"latitude\"],\n",
    "        \"lon\": geocode[\"longitude\"],\n",
    "        \"appid\": key_weather,\n",
    "        \"units\": \"metric\",  # Metric units for temperature in Celsius\n",
    "    }\n",
    "\n",
    "    #Making the request to the API\n",
    "    response_weather = requests.get(url_weather_api, params=params_weather)\n",
    "\n",
    "    #Criteria to check if the request was successful\n",
    "    if response_weather.status_code == 200:\n",
    "        data_weather = response_weather.json()\n",
    "\n",
    "        #Here goes the code for the data extraction. Keys will depend on the selected API\n",
    "        #Everything will be set to booleans by now and adjusted later\n",
    "        temperature = data_weather['main']['temp']\n",
    "        wind_speed = data_weather['wind']['speed']\n",
    "        relative_humidity = data_weather['main']['humidity']\n",
    "        thermal_sensation = data_weather['main']['feels_like']\n",
    "        precipitation = data_weather['rain']['1h'] if 'rain' in data_weather and '1h' in data_weather['rain'] else 'No Data'\n",
    "        return {\n",
    "            \"temperature\": temperature,\n",
    "            \"wind_speed\": wind_speed,\n",
    "            \"realtive_humidity\": relative_humidity,\n",
    "            \"thermal_sensation\": thermal_sensation,\n",
    "            \"precipitation\": precipitation\n",
    "        }\n",
    "        \n",
    "    else:\n",
    "        print(f\"Error: Unable to connect to the API. Status code: {response_weather.status_code}\")\n",
    "        return None\n",
    "    \n",
    "#Instancing the function to get the weather of Cartago, Colombia\n",
    "weather = get_weather(\"Cartago, Colombia\")\n",
    "print(weather)"
   ]
  },
  {
   "cell_type": "markdown",
   "id": "ed003825",
   "metadata": {},
   "source": [
    "## And what about security?\n",
    "\n",
    "API keys are sensitive information that can cause a lot of trouble if they land in the wrong hands.\n",
    "\n",
    "How to manage them?\n",
    "\n",
    "Fortunately, we have environment variables that can help us set up API keys with much more confidence. Let's see an example."
   ]
  },
  {
   "cell_type": "code",
   "execution_count": 22,
   "id": "5cdb45c0",
   "metadata": {},
   "outputs": [],
   "source": [
    "#Importinf the os module, crucial for evironment variables\n",
    "#it is important to install the python-dotenv package to use .env files\n",
    "import os\n",
    "from dotenv import load_dotenv"
   ]
  },
  {
   "cell_type": "code",
   "execution_count": 23,
   "id": "60b49d52",
   "metadata": {},
   "outputs": [],
   "source": [
    "#loading the environment variables from the .env file\n",
    "load_dotenv()\n",
    "\n",
    "google_maps_api_key = os.getenv(\"GOOGLE_MAPS_API_KEY\")\n",
    "open_weather_api_key = os.getenv(\"OPEN_WEATHER_API_KEY\") "
   ]
  },
  {
   "cell_type": "markdown",
   "id": "25545cfb",
   "metadata": {},
   "source": [
    "## Now a complete version of this App should look like this"
   ]
  },
  {
   "cell_type": "code",
   "execution_count": 55,
   "id": "a5f45968",
   "metadata": {},
   "outputs": [
    {
     "name": "stdout",
     "output_type": "stream",
     "text": [
      "Temperature: 15.37°C \n",
      "Thermal Sensation: 15.26°C \n",
      "Wind Speed: 1.94 km/h \n",
      "Wind Direction: N \n",
      "Relative Humidity: 88% \n",
      "Precipitation: No Data\n"
     ]
    }
   ],
   "source": [
    "def get_geocode(city)-> dict:\n",
    "    \"\"\"Get the cordinates of the requested city, \n",
    "    returns a dictionary with latitude and longitude\"\"\"\n",
    "\n",
    "    url_maps_api =\"https://maps.googleapis.com/maps/api/geocode/json\"\n",
    "    key_maps = google_maps_api_key\n",
    "\n",
    "    #Instancing the parameters to be sent to the API\n",
    "    params_maps = {\n",
    "        \"address\": city,\n",
    "        \"key\": key_maps\n",
    "    }\n",
    "\n",
    "    #Making the request to the API\n",
    "    response_maps = requests.get(url_maps_api, params=params_maps)\n",
    "\n",
    "    #Criteria to check if the request was successful\n",
    "    #If the status code is 200, it means the request was successful\n",
    "    if response_maps.status_code == 200:\n",
    "        data_maps = response_maps.json()\n",
    "\n",
    "        if data_maps['status'] == 'OK':\n",
    "            #print(data_maps['results'][0]['geometry'])\n",
    "            longitude = data_maps['results'][0]['geometry']['location']['lng']\n",
    "            latitude = data_maps['results'][0]['geometry']['location']['lat']\n",
    "            return {\"latitude\": latitude, \"longitude\": longitude}\n",
    "        else:\n",
    "            print(f\"Error: No results found for the specified city.\")\n",
    "            return None\n",
    "    else:\n",
    "        print(f\"Error: Unable to connect to the API. Status code: {response_maps.status_code}\")\n",
    "        return None\n",
    "\n",
    "def wind_compass_direction(deg: float) -> str:\n",
    "    directions = ['N', 'NE', 'E', 'SE', 'S', 'SW', 'W', 'NW']\n",
    "    index = int((deg + 22.5) // 45) % 8\n",
    "    return directions[index]\n",
    "\n",
    "def get_weather(city)-> dict:\n",
    "    \"\"\"Get the main weather conditions for the requested city\n",
    "    Returns a dictionary with the main weather conditions\"\"\"\n",
    "\n",
    "    #Setting the endpoint and API key for  the Open weather API\n",
    "    url_weather_api = \"https://api.openweathermap.org/data/2.5/weather\"\n",
    "    key_weather = open_weather_api_key\n",
    "\n",
    "    #Getting the geocode of the city\n",
    "    geocode = get_geocode(city)\n",
    "    if not geocode:\n",
    "        return f\"No se encontró la cuidad requesrida: {city}\\n verifique la ortografía o intente con otra ciudad.\"\n",
    "\n",
    "    #Instancing the parameters to be sent to the API\n",
    "    params_weather = {\n",
    "        \"lat\": geocode[\"latitude\"],\n",
    "        \"lon\": geocode[\"longitude\"],\n",
    "        \"appid\": key_weather,\n",
    "        \"units\": \"metric\",  # Metric units for temperature in Celsius\n",
    "    }\n",
    "\n",
    "    #Making the request to the API\n",
    "    response_weather = requests.get(url_weather_api, params=params_weather)\n",
    "\n",
    "    #Criteria to check if the request was successful\n",
    "    if response_weather.status_code == 200:\n",
    "        data_weather = response_weather.json()\n",
    "\n",
    "        #Here goes the code for the data extraction. Keys will depend on the selected API\n",
    "        #Everything will be set to booleans by now and adjusted later\n",
    "        temperature = data_weather['main']['temp']\n",
    "        wind_speed = data_weather['wind']['speed']\n",
    "        wind_deg = data_weather['wind']['deg']\n",
    "        wind_direction = wind_compass_direction(wind_deg)\n",
    "        relative_humidity = data_weather['main']['humidity']\n",
    "        thermal_sensation = data_weather['main']['feels_like']\n",
    "        precipitation = data_weather['rain']['1h'] if 'rain' in data_weather and '1h' in data_weather['rain'] else 'No Data'\n",
    "        #It's important to note that the precipitation key may not always be present in the response, so we check for its existence\n",
    "        return {\n",
    "            \"temperature\": temperature,\n",
    "            \"wind_speed\": wind_speed,\n",
    "            \"wind_direction\": wind_direction,\n",
    "            \"realtive_humidity\": relative_humidity,\n",
    "            \"thermal_sensation\": thermal_sensation,\n",
    "            \"precipitation\": precipitation\n",
    "        }\n",
    "        \n",
    "    else:\n",
    "        print(f\"Error: Unable to connect to the API. Status code: {response_weather.status_code}\")\n",
    "        return None\n",
    "    \n",
    "#Instancing the function to get the weather of Cartago, Colombia\n",
    "weather = get_weather(\"Cartago, Colombia\")\n",
    "print(f\"Temperature: {weather['temperature']}°C \\n\"\n",
    "      f\"Thermal Sensation: {weather['thermal_sensation']}°C \\n\" \n",
    "      f\"Wind Speed: {round(weather['wind_speed'] * 3.6, 2)} km/h \\n\" \n",
    "      f\"Wind Direction: {weather['wind_direction']} \\n\"\n",
    "      f\"Relative Humidity: {weather['realtive_humidity']}% \\n\" \n",
    "      f\"Precipitation: {weather['precipitation']}\"\n",
    ")\n",
    "\n"
   ]
  },
  {
   "cell_type": "markdown",
   "id": "f3fbd4ad",
   "metadata": {},
   "source": [
    "## Final Thoughts\n",
    "\n",
    "This is the basis for a functional app that I will be implementing in an upcoming notebook in order to integrate a graphic interface, handle request quotas, and upload to a server.\n",
    "\n",
    "- It is important to note that Google Maps has its own library for API usage, which makes it much simpler to use the different services they offer. However, the purpose of this notebook was to explore the \"hustle\" of coding it by yourself."
   ]
  }
 ],
 "metadata": {
  "kernelspec": {
   "display_name": "Python 3",
   "language": "python",
   "name": "python3"
  },
  "language_info": {
   "codemirror_mode": {
    "name": "ipython",
    "version": 3
   },
   "file_extension": ".py",
   "mimetype": "text/x-python",
   "name": "python",
   "nbconvert_exporter": "python",
   "pygments_lexer": "ipython3",
   "version": "3.13.5"
  }
 },
 "nbformat": 4,
 "nbformat_minor": 5
}
